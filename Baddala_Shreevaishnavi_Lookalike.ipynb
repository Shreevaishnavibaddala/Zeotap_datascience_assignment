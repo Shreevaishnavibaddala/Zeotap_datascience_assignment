{
  "nbformat": 4,
  "nbformat_minor": 0,
  "metadata": {
    "colab": {
      "provenance": []
    },
    "kernelspec": {
      "name": "python3",
      "display_name": "Python 3"
    },
    "language_info": {
      "name": "python"
    }
  },
  "cells": [
    {
      "cell_type": "code",
      "execution_count": null,
      "metadata": {
        "id": "cKyhQgfgy663"
      },
      "outputs": [],
      "source": [
        "import pandas as pd\n",
        "import matplotlib.pyplot as plt\n",
        "import seaborn as sns\n",
        "from sklearn.preprocessing import StandardScaler\n",
        "from sklearn.metrics.pairwise import cosine_similarity"
      ]
    },
    {
      "cell_type": "markdown",
      "source": [
        "Load data sets and merge them into a single dataframe. Join Transactions and Products on Product ID. Then join this dataframe with Customers on Customer ID."
      ],
      "metadata": {
        "id": "mqsFjB3HUch5"
      }
    },
    {
      "cell_type": "code",
      "source": [
        "\n",
        "customers = pd.read_csv('Customers.csv')\n",
        "products = pd.read_csv('Products.csv')\n",
        "transactions = pd.read_csv('Transactions.csv')\n"
      ],
      "metadata": {
        "id": "vAB_n1Cqz28U"
      },
      "execution_count": null,
      "outputs": []
    },
    {
      "cell_type": "code",
      "source": [
        "\n",
        "print(\"Customers Data:\")\n",
        "print(customers.head())\n",
        "print(\"\\nProducts Data:\")\n",
        "print(products.head())\n",
        "print(\"\\nTransactions Data:\")\n",
        "print(transactions.head())"
      ],
      "metadata": {
        "colab": {
          "base_uri": "https://localhost:8080/"
        },
        "id": "qeX_08-6z2_2",
        "outputId": "8d164ba2-b4e3-4c10-ec9d-8e4a9fe4dd70"
      },
      "execution_count": null,
      "outputs": [
        {
          "output_type": "stream",
          "name": "stdout",
          "text": [
            "Customers Data:\n",
            "  CustomerID        CustomerName         Region  SignupDate\n",
            "0      C0001    Lawrence Carroll  South America  2022-07-10\n",
            "1      C0002      Elizabeth Lutz           Asia  2022-02-13\n",
            "2      C0003      Michael Rivera  South America  2024-03-07\n",
            "3      C0004  Kathleen Rodriguez  South America  2022-10-09\n",
            "4      C0005         Laura Weber           Asia  2022-08-15\n",
            "\n",
            "Products Data:\n",
            "  ProductID              ProductName     Category   Price\n",
            "0      P001     ActiveWear Biography        Books  169.30\n",
            "1      P002    ActiveWear Smartwatch  Electronics  346.30\n",
            "2      P003  ComfortLiving Biography        Books   44.12\n",
            "3      P004            BookWorld Rug   Home Decor   95.69\n",
            "4      P005          TechPro T-Shirt     Clothing  429.31\n",
            "\n",
            "Transactions Data:\n",
            "  TransactionID CustomerID ProductID      TransactionDate  Quantity  \\\n",
            "0        T00001      C0199      P067  2024-08-25 12:38:23         1   \n",
            "1        T00112      C0146      P067  2024-05-27 22:23:54         1   \n",
            "2        T00166      C0127      P067  2024-04-25 07:38:55         1   \n",
            "3        T00272      C0087      P067  2024-03-26 22:55:37         2   \n",
            "4        T00363      C0070      P067  2024-03-21 15:10:10         3   \n",
            "\n",
            "   TotalValue   Price  \n",
            "0      300.68  300.68  \n",
            "1      300.68  300.68  \n",
            "2      300.68  300.68  \n",
            "3      601.36  300.68  \n",
            "4      902.04  300.68  \n"
          ]
        }
      ]
    },
    {
      "cell_type": "code",
      "source": [
        "\n",
        "transaction_product_data = pd.merge(transactions, products, on='ProductID')\n",
        "merged_data = pd.merge(transaction_product_data, customers, on='CustomerID')\n"
      ],
      "metadata": {
        "id": "e_pUfXQI3h9J"
      },
      "execution_count": null,
      "outputs": []
    },
    {
      "cell_type": "code",
      "source": [
        "merged_data.head()"
      ],
      "metadata": {
        "colab": {
          "base_uri": "https://localhost:8080/",
          "height": 400
        },
        "id": "Ktf_Qu3J4Vph",
        "outputId": "1f393ccd-3492-4b25-cb3a-9b101f0df4c4"
      },
      "execution_count": null,
      "outputs": [
        {
          "output_type": "execute_result",
          "data": {
            "text/plain": [
              "  TransactionID CustomerID ProductID      TransactionDate  Quantity  \\\n",
              "0        T00001      C0199      P067  2024-08-25 12:38:23         1   \n",
              "1        T00112      C0146      P067  2024-05-27 22:23:54         1   \n",
              "2        T00166      C0127      P067  2024-04-25 07:38:55         1   \n",
              "3        T00272      C0087      P067  2024-03-26 22:55:37         2   \n",
              "4        T00363      C0070      P067  2024-03-21 15:10:10         3   \n",
              "\n",
              "   TotalValue  Price_x                      ProductName     Category  Price_y  \\\n",
              "0      300.68   300.68  ComfortLiving Bluetooth Speaker  Electronics   300.68   \n",
              "1      300.68   300.68  ComfortLiving Bluetooth Speaker  Electronics   300.68   \n",
              "2      300.68   300.68  ComfortLiving Bluetooth Speaker  Electronics   300.68   \n",
              "3      601.36   300.68  ComfortLiving Bluetooth Speaker  Electronics   300.68   \n",
              "4      902.04   300.68  ComfortLiving Bluetooth Speaker  Electronics   300.68   \n",
              "\n",
              "      CustomerName         Region  SignupDate  \n",
              "0   Andrea Jenkins         Europe  2022-12-03  \n",
              "1  Brittany Harvey           Asia  2024-09-04  \n",
              "2  Kathryn Stevens         Europe  2024-04-04  \n",
              "3  Travis Campbell  South America  2024-04-11  \n",
              "4    Timothy Perez         Europe  2022-03-15  "
            ],
            "text/html": [
              "\n",
              "  <div id=\"df-11d5d06e-799c-476e-9461-c4b9c7e69c93\" class=\"colab-df-container\">\n",
              "    <div>\n",
              "<style scoped>\n",
              "    .dataframe tbody tr th:only-of-type {\n",
              "        vertical-align: middle;\n",
              "    }\n",
              "\n",
              "    .dataframe tbody tr th {\n",
              "        vertical-align: top;\n",
              "    }\n",
              "\n",
              "    .dataframe thead th {\n",
              "        text-align: right;\n",
              "    }\n",
              "</style>\n",
              "<table border=\"1\" class=\"dataframe\">\n",
              "  <thead>\n",
              "    <tr style=\"text-align: right;\">\n",
              "      <th></th>\n",
              "      <th>TransactionID</th>\n",
              "      <th>CustomerID</th>\n",
              "      <th>ProductID</th>\n",
              "      <th>TransactionDate</th>\n",
              "      <th>Quantity</th>\n",
              "      <th>TotalValue</th>\n",
              "      <th>Price_x</th>\n",
              "      <th>ProductName</th>\n",
              "      <th>Category</th>\n",
              "      <th>Price_y</th>\n",
              "      <th>CustomerName</th>\n",
              "      <th>Region</th>\n",
              "      <th>SignupDate</th>\n",
              "    </tr>\n",
              "  </thead>\n",
              "  <tbody>\n",
              "    <tr>\n",
              "      <th>0</th>\n",
              "      <td>T00001</td>\n",
              "      <td>C0199</td>\n",
              "      <td>P067</td>\n",
              "      <td>2024-08-25 12:38:23</td>\n",
              "      <td>1</td>\n",
              "      <td>300.68</td>\n",
              "      <td>300.68</td>\n",
              "      <td>ComfortLiving Bluetooth Speaker</td>\n",
              "      <td>Electronics</td>\n",
              "      <td>300.68</td>\n",
              "      <td>Andrea Jenkins</td>\n",
              "      <td>Europe</td>\n",
              "      <td>2022-12-03</td>\n",
              "    </tr>\n",
              "    <tr>\n",
              "      <th>1</th>\n",
              "      <td>T00112</td>\n",
              "      <td>C0146</td>\n",
              "      <td>P067</td>\n",
              "      <td>2024-05-27 22:23:54</td>\n",
              "      <td>1</td>\n",
              "      <td>300.68</td>\n",
              "      <td>300.68</td>\n",
              "      <td>ComfortLiving Bluetooth Speaker</td>\n",
              "      <td>Electronics</td>\n",
              "      <td>300.68</td>\n",
              "      <td>Brittany Harvey</td>\n",
              "      <td>Asia</td>\n",
              "      <td>2024-09-04</td>\n",
              "    </tr>\n",
              "    <tr>\n",
              "      <th>2</th>\n",
              "      <td>T00166</td>\n",
              "      <td>C0127</td>\n",
              "      <td>P067</td>\n",
              "      <td>2024-04-25 07:38:55</td>\n",
              "      <td>1</td>\n",
              "      <td>300.68</td>\n",
              "      <td>300.68</td>\n",
              "      <td>ComfortLiving Bluetooth Speaker</td>\n",
              "      <td>Electronics</td>\n",
              "      <td>300.68</td>\n",
              "      <td>Kathryn Stevens</td>\n",
              "      <td>Europe</td>\n",
              "      <td>2024-04-04</td>\n",
              "    </tr>\n",
              "    <tr>\n",
              "      <th>3</th>\n",
              "      <td>T00272</td>\n",
              "      <td>C0087</td>\n",
              "      <td>P067</td>\n",
              "      <td>2024-03-26 22:55:37</td>\n",
              "      <td>2</td>\n",
              "      <td>601.36</td>\n",
              "      <td>300.68</td>\n",
              "      <td>ComfortLiving Bluetooth Speaker</td>\n",
              "      <td>Electronics</td>\n",
              "      <td>300.68</td>\n",
              "      <td>Travis Campbell</td>\n",
              "      <td>South America</td>\n",
              "      <td>2024-04-11</td>\n",
              "    </tr>\n",
              "    <tr>\n",
              "      <th>4</th>\n",
              "      <td>T00363</td>\n",
              "      <td>C0070</td>\n",
              "      <td>P067</td>\n",
              "      <td>2024-03-21 15:10:10</td>\n",
              "      <td>3</td>\n",
              "      <td>902.04</td>\n",
              "      <td>300.68</td>\n",
              "      <td>ComfortLiving Bluetooth Speaker</td>\n",
              "      <td>Electronics</td>\n",
              "      <td>300.68</td>\n",
              "      <td>Timothy Perez</td>\n",
              "      <td>Europe</td>\n",
              "      <td>2022-03-15</td>\n",
              "    </tr>\n",
              "  </tbody>\n",
              "</table>\n",
              "</div>\n",
              "    <div class=\"colab-df-buttons\">\n",
              "\n",
              "  <div class=\"colab-df-container\">\n",
              "    <button class=\"colab-df-convert\" onclick=\"convertToInteractive('df-11d5d06e-799c-476e-9461-c4b9c7e69c93')\"\n",
              "            title=\"Convert this dataframe to an interactive table.\"\n",
              "            style=\"display:none;\">\n",
              "\n",
              "  <svg xmlns=\"http://www.w3.org/2000/svg\" height=\"24px\" viewBox=\"0 -960 960 960\">\n",
              "    <path d=\"M120-120v-720h720v720H120Zm60-500h600v-160H180v160Zm220 220h160v-160H400v160Zm0 220h160v-160H400v160ZM180-400h160v-160H180v160Zm440 0h160v-160H620v160ZM180-180h160v-160H180v160Zm440 0h160v-160H620v160Z\"/>\n",
              "  </svg>\n",
              "    </button>\n",
              "\n",
              "  <style>\n",
              "    .colab-df-container {\n",
              "      display:flex;\n",
              "      gap: 12px;\n",
              "    }\n",
              "\n",
              "    .colab-df-convert {\n",
              "      background-color: #E8F0FE;\n",
              "      border: none;\n",
              "      border-radius: 50%;\n",
              "      cursor: pointer;\n",
              "      display: none;\n",
              "      fill: #1967D2;\n",
              "      height: 32px;\n",
              "      padding: 0 0 0 0;\n",
              "      width: 32px;\n",
              "    }\n",
              "\n",
              "    .colab-df-convert:hover {\n",
              "      background-color: #E2EBFA;\n",
              "      box-shadow: 0px 1px 2px rgba(60, 64, 67, 0.3), 0px 1px 3px 1px rgba(60, 64, 67, 0.15);\n",
              "      fill: #174EA6;\n",
              "    }\n",
              "\n",
              "    .colab-df-buttons div {\n",
              "      margin-bottom: 4px;\n",
              "    }\n",
              "\n",
              "    [theme=dark] .colab-df-convert {\n",
              "      background-color: #3B4455;\n",
              "      fill: #D2E3FC;\n",
              "    }\n",
              "\n",
              "    [theme=dark] .colab-df-convert:hover {\n",
              "      background-color: #434B5C;\n",
              "      box-shadow: 0px 1px 3px 1px rgba(0, 0, 0, 0.15);\n",
              "      filter: drop-shadow(0px 1px 2px rgba(0, 0, 0, 0.3));\n",
              "      fill: #FFFFFF;\n",
              "    }\n",
              "  </style>\n",
              "\n",
              "    <script>\n",
              "      const buttonEl =\n",
              "        document.querySelector('#df-11d5d06e-799c-476e-9461-c4b9c7e69c93 button.colab-df-convert');\n",
              "      buttonEl.style.display =\n",
              "        google.colab.kernel.accessAllowed ? 'block' : 'none';\n",
              "\n",
              "      async function convertToInteractive(key) {\n",
              "        const element = document.querySelector('#df-11d5d06e-799c-476e-9461-c4b9c7e69c93');\n",
              "        const dataTable =\n",
              "          await google.colab.kernel.invokeFunction('convertToInteractive',\n",
              "                                                    [key], {});\n",
              "        if (!dataTable) return;\n",
              "\n",
              "        const docLinkHtml = 'Like what you see? Visit the ' +\n",
              "          '<a target=\"_blank\" href=https://colab.research.google.com/notebooks/data_table.ipynb>data table notebook</a>'\n",
              "          + ' to learn more about interactive tables.';\n",
              "        element.innerHTML = '';\n",
              "        dataTable['output_type'] = 'display_data';\n",
              "        await google.colab.output.renderOutput(dataTable, element);\n",
              "        const docLink = document.createElement('div');\n",
              "        docLink.innerHTML = docLinkHtml;\n",
              "        element.appendChild(docLink);\n",
              "      }\n",
              "    </script>\n",
              "  </div>\n",
              "\n",
              "\n",
              "<div id=\"df-ee5345da-74e1-4769-9e92-1c2380b788ba\">\n",
              "  <button class=\"colab-df-quickchart\" onclick=\"quickchart('df-ee5345da-74e1-4769-9e92-1c2380b788ba')\"\n",
              "            title=\"Suggest charts\"\n",
              "            style=\"display:none;\">\n",
              "\n",
              "<svg xmlns=\"http://www.w3.org/2000/svg\" height=\"24px\"viewBox=\"0 0 24 24\"\n",
              "     width=\"24px\">\n",
              "    <g>\n",
              "        <path d=\"M19 3H5c-1.1 0-2 .9-2 2v14c0 1.1.9 2 2 2h14c1.1 0 2-.9 2-2V5c0-1.1-.9-2-2-2zM9 17H7v-7h2v7zm4 0h-2V7h2v10zm4 0h-2v-4h2v4z\"/>\n",
              "    </g>\n",
              "</svg>\n",
              "  </button>\n",
              "\n",
              "<style>\n",
              "  .colab-df-quickchart {\n",
              "      --bg-color: #E8F0FE;\n",
              "      --fill-color: #1967D2;\n",
              "      --hover-bg-color: #E2EBFA;\n",
              "      --hover-fill-color: #174EA6;\n",
              "      --disabled-fill-color: #AAA;\n",
              "      --disabled-bg-color: #DDD;\n",
              "  }\n",
              "\n",
              "  [theme=dark] .colab-df-quickchart {\n",
              "      --bg-color: #3B4455;\n",
              "      --fill-color: #D2E3FC;\n",
              "      --hover-bg-color: #434B5C;\n",
              "      --hover-fill-color: #FFFFFF;\n",
              "      --disabled-bg-color: #3B4455;\n",
              "      --disabled-fill-color: #666;\n",
              "  }\n",
              "\n",
              "  .colab-df-quickchart {\n",
              "    background-color: var(--bg-color);\n",
              "    border: none;\n",
              "    border-radius: 50%;\n",
              "    cursor: pointer;\n",
              "    display: none;\n",
              "    fill: var(--fill-color);\n",
              "    height: 32px;\n",
              "    padding: 0;\n",
              "    width: 32px;\n",
              "  }\n",
              "\n",
              "  .colab-df-quickchart:hover {\n",
              "    background-color: var(--hover-bg-color);\n",
              "    box-shadow: 0 1px 2px rgba(60, 64, 67, 0.3), 0 1px 3px 1px rgba(60, 64, 67, 0.15);\n",
              "    fill: var(--button-hover-fill-color);\n",
              "  }\n",
              "\n",
              "  .colab-df-quickchart-complete:disabled,\n",
              "  .colab-df-quickchart-complete:disabled:hover {\n",
              "    background-color: var(--disabled-bg-color);\n",
              "    fill: var(--disabled-fill-color);\n",
              "    box-shadow: none;\n",
              "  }\n",
              "\n",
              "  .colab-df-spinner {\n",
              "    border: 2px solid var(--fill-color);\n",
              "    border-color: transparent;\n",
              "    border-bottom-color: var(--fill-color);\n",
              "    animation:\n",
              "      spin 1s steps(1) infinite;\n",
              "  }\n",
              "\n",
              "  @keyframes spin {\n",
              "    0% {\n",
              "      border-color: transparent;\n",
              "      border-bottom-color: var(--fill-color);\n",
              "      border-left-color: var(--fill-color);\n",
              "    }\n",
              "    20% {\n",
              "      border-color: transparent;\n",
              "      border-left-color: var(--fill-color);\n",
              "      border-top-color: var(--fill-color);\n",
              "    }\n",
              "    30% {\n",
              "      border-color: transparent;\n",
              "      border-left-color: var(--fill-color);\n",
              "      border-top-color: var(--fill-color);\n",
              "      border-right-color: var(--fill-color);\n",
              "    }\n",
              "    40% {\n",
              "      border-color: transparent;\n",
              "      border-right-color: var(--fill-color);\n",
              "      border-top-color: var(--fill-color);\n",
              "    }\n",
              "    60% {\n",
              "      border-color: transparent;\n",
              "      border-right-color: var(--fill-color);\n",
              "    }\n",
              "    80% {\n",
              "      border-color: transparent;\n",
              "      border-right-color: var(--fill-color);\n",
              "      border-bottom-color: var(--fill-color);\n",
              "    }\n",
              "    90% {\n",
              "      border-color: transparent;\n",
              "      border-bottom-color: var(--fill-color);\n",
              "    }\n",
              "  }\n",
              "</style>\n",
              "\n",
              "  <script>\n",
              "    async function quickchart(key) {\n",
              "      const quickchartButtonEl =\n",
              "        document.querySelector('#' + key + ' button');\n",
              "      quickchartButtonEl.disabled = true;  // To prevent multiple clicks.\n",
              "      quickchartButtonEl.classList.add('colab-df-spinner');\n",
              "      try {\n",
              "        const charts = await google.colab.kernel.invokeFunction(\n",
              "            'suggestCharts', [key], {});\n",
              "      } catch (error) {\n",
              "        console.error('Error during call to suggestCharts:', error);\n",
              "      }\n",
              "      quickchartButtonEl.classList.remove('colab-df-spinner');\n",
              "      quickchartButtonEl.classList.add('colab-df-quickchart-complete');\n",
              "    }\n",
              "    (() => {\n",
              "      let quickchartButtonEl =\n",
              "        document.querySelector('#df-ee5345da-74e1-4769-9e92-1c2380b788ba button');\n",
              "      quickchartButtonEl.style.display =\n",
              "        google.colab.kernel.accessAllowed ? 'block' : 'none';\n",
              "    })();\n",
              "  </script>\n",
              "</div>\n",
              "\n",
              "    </div>\n",
              "  </div>\n"
            ],
            "application/vnd.google.colaboratory.intrinsic+json": {
              "type": "dataframe",
              "variable_name": "merged_data",
              "summary": "{\n  \"name\": \"merged_data\",\n  \"rows\": 1000,\n  \"fields\": [\n    {\n      \"column\": \"TransactionID\",\n      \"properties\": {\n        \"dtype\": \"string\",\n        \"num_unique_values\": 1000,\n        \"samples\": [\n          \"T00677\",\n          \"T00790\",\n          \"T00907\"\n        ],\n        \"semantic_type\": \"\",\n        \"description\": \"\"\n      }\n    },\n    {\n      \"column\": \"CustomerID\",\n      \"properties\": {\n        \"dtype\": \"category\",\n        \"num_unique_values\": 199,\n        \"samples\": [\n          \"C0135\",\n          \"C0109\",\n          \"C0048\"\n        ],\n        \"semantic_type\": \"\",\n        \"description\": \"\"\n      }\n    },\n    {\n      \"column\": \"ProductID\",\n      \"properties\": {\n        \"dtype\": \"category\",\n        \"num_unique_values\": 100,\n        \"samples\": [\n          \"P082\",\n          \"P052\",\n          \"P035\"\n        ],\n        \"semantic_type\": \"\",\n        \"description\": \"\"\n      }\n    },\n    {\n      \"column\": \"TransactionDate\",\n      \"properties\": {\n        \"dtype\": \"object\",\n        \"num_unique_values\": 1000,\n        \"samples\": [\n          \"2024-03-05 23:39:40\",\n          \"2024-08-13 23:52:47\",\n          \"2024-02-15 17:18:56\"\n        ],\n        \"semantic_type\": \"\",\n        \"description\": \"\"\n      }\n    },\n    {\n      \"column\": \"Quantity\",\n      \"properties\": {\n        \"dtype\": \"number\",\n        \"std\": 1,\n        \"min\": 1,\n        \"max\": 4,\n        \"num_unique_values\": 4,\n        \"samples\": [\n          2,\n          4,\n          1\n        ],\n        \"semantic_type\": \"\",\n        \"description\": \"\"\n      }\n    },\n    {\n      \"column\": \"TotalValue\",\n      \"properties\": {\n        \"dtype\": \"number\",\n        \"std\": 493.14447754793144,\n        \"min\": 16.08,\n        \"max\": 1991.04,\n        \"num_unique_values\": 369,\n        \"samples\": [\n          1789.36,\n          681.78,\n          580.34\n        ],\n        \"semantic_type\": \"\",\n        \"description\": \"\"\n      }\n    },\n    {\n      \"column\": \"Price_x\",\n      \"properties\": {\n        \"dtype\": \"number\",\n        \"std\": 140.73638962578207,\n        \"min\": 16.08,\n        \"max\": 497.76,\n        \"num_unique_values\": 100,\n        \"samples\": [\n          55.99,\n          354.81,\n          30.59\n        ],\n        \"semantic_type\": \"\",\n        \"description\": \"\"\n      }\n    },\n    {\n      \"column\": \"ProductName\",\n      \"properties\": {\n        \"dtype\": \"category\",\n        \"num_unique_values\": 66,\n        \"samples\": [\n          \"ActiveWear Jacket\",\n          \"BookWorld Bluetooth Speaker\",\n          \"ComfortLiving Bluetooth Speaker\"\n        ],\n        \"semantic_type\": \"\",\n        \"description\": \"\"\n      }\n    },\n    {\n      \"column\": \"Category\",\n      \"properties\": {\n        \"dtype\": \"category\",\n        \"num_unique_values\": 4,\n        \"samples\": [\n          \"Clothing\",\n          \"Home Decor\",\n          \"Electronics\"\n        ],\n        \"semantic_type\": \"\",\n        \"description\": \"\"\n      }\n    },\n    {\n      \"column\": \"Price_y\",\n      \"properties\": {\n        \"dtype\": \"number\",\n        \"std\": 140.73638962578207,\n        \"min\": 16.08,\n        \"max\": 497.76,\n        \"num_unique_values\": 100,\n        \"samples\": [\n          55.99,\n          354.81,\n          30.59\n        ],\n        \"semantic_type\": \"\",\n        \"description\": \"\"\n      }\n    },\n    {\n      \"column\": \"CustomerName\",\n      \"properties\": {\n        \"dtype\": \"category\",\n        \"num_unique_values\": 199,\n        \"samples\": [\n          \"Toni Weaver\",\n          \"Abigail Jones\",\n          \"Matthew Park\"\n        ],\n        \"semantic_type\": \"\",\n        \"description\": \"\"\n      }\n    },\n    {\n      \"column\": \"Region\",\n      \"properties\": {\n        \"dtype\": \"category\",\n        \"num_unique_values\": 4,\n        \"samples\": [\n          \"Asia\",\n          \"North America\",\n          \"Europe\"\n        ],\n        \"semantic_type\": \"\",\n        \"description\": \"\"\n      }\n    },\n    {\n      \"column\": \"SignupDate\",\n      \"properties\": {\n        \"dtype\": \"object\",\n        \"num_unique_values\": 178,\n        \"samples\": [\n          \"2023-06-11\",\n          \"2023-09-27\",\n          \"2022-02-10\"\n        ],\n        \"semantic_type\": \"\",\n        \"description\": \"\"\n      }\n    }\n  ]\n}"
            }
          },
          "metadata": {},
          "execution_count": 5
        }
      ]
    },
    {
      "cell_type": "markdown",
      "source": [
        "Price column is present in both Products and Transactions csv, so we have two columns Price_X and Price_y. We will drop price_y column and rename price_x to Price."
      ],
      "metadata": {
        "id": "Mmk4YahKXm4L"
      }
    },
    {
      "cell_type": "code",
      "source": [
        "merged_data = merged_data.drop(['Price_y'], axis=1)\n"
      ],
      "metadata": {
        "id": "BTygjzzP-Lm2"
      },
      "execution_count": null,
      "outputs": []
    },
    {
      "cell_type": "code",
      "source": [
        "merged_data = merged_data.rename(columns={'Price_x': 'Price'})\n"
      ],
      "metadata": {
        "id": "y58siDIg-Lqf"
      },
      "execution_count": null,
      "outputs": []
    },
    {
      "cell_type": "markdown",
      "source": [
        "#Aggregate Features for Each Customer\n",
        "First, we will calculate numerical features.\n",
        "Lookalike customers will have similar spending power. So we will check similarity of look alike customers on the basis of The total amount spent by the customers, the quantity of items purchased, the average product prices and their standard deviation."
      ],
      "metadata": {
        "id": "Sro6bdo5A6fK"
      }
    },
    {
      "cell_type": "code",
      "source": [
        "\n",
        "customer_numerical_features = merged_data.groupby('CustomerID').agg({\n",
        "    'TotalValue': 'sum',           # Total spending\n",
        "    'Quantity': 'sum',             # Total quantity purchased\n",
        "    'Price': ['mean', 'std'],      # Average and standard deviation of product prices\n",
        "}).reset_index()\n",
        "customer_numerical_features.columns = ['CustomerID', 'TotalValue', 'Quantity', 'AvgPrice', 'PriceStd']\n",
        "\n",
        "customer_numerical_features['PriceStd'] = customer_numerical_features['PriceStd'].fillna(0)"
      ],
      "metadata": {
        "id": "cYNBA4MNXJ60"
      },
      "execution_count": null,
      "outputs": []
    },
    {
      "cell_type": "markdown",
      "source": [
        "Look alike customers will have interest in similar categories. Hence, we will calculate the the category distribution of customers by normalizing them to get proportions."
      ],
      "metadata": {
        "id": "UUA5geZDZEsM"
      }
    },
    {
      "cell_type": "code",
      "source": [
        "category_distribution = pd.crosstab(merged_data['CustomerID'], merged_data['Category'], values=merged_data['Quantity'], aggfunc='sum').fillna(0)\n",
        "\n",
        "category_distribution = category_distribution.div(category_distribution.sum(axis=1), axis=0).fillna(0)"
      ],
      "metadata": {
        "id": "_wtXweMiXKLj"
      },
      "execution_count": null,
      "outputs": []
    },
    {
      "cell_type": "markdown",
      "source": [
        "Even in same category purchases, we will have customers who have purchased the same product. We will give a bit more preference to such customers, as they have similar product preferences also."
      ],
      "metadata": {
        "id": "QvFB3EmpaA5d"
      }
    },
    {
      "cell_type": "code",
      "source": [
        "# Product overlap matrix (customers who bought the same products)\n",
        "product_matrix = pd.crosstab(merged_data['CustomerID'], merged_data['ProductID'])\n",
        "product_similarity = cosine_similarity(product_matrix)"
      ],
      "metadata": {
        "id": "Vvkygi1xZ_-0"
      },
      "execution_count": null,
      "outputs": []
    },
    {
      "cell_type": "markdown",
      "source": [
        "Calculate days since last purchase for each customer as similar customers will have similar purchase history.\n"
      ],
      "metadata": {
        "id": "alGcRvO_Zz7M"
      }
    },
    {
      "cell_type": "code",
      "source": [
        "merged_data['TransactionDate'] = pd.to_datetime(merged_data['TransactionDate'])\n",
        "last_purchase = merged_data.groupby('CustomerID')['TransactionDate'].max().reset_index()\n",
        "last_purchase['Recency'] = (merged_data['TransactionDate'].max() - last_purchase['TransactionDate']).dt.days\n",
        "last_purchase = last_purchase[['CustomerID', 'Recency']]"
      ],
      "metadata": {
        "id": "X6IvwjSYXKOF"
      },
      "execution_count": null,
      "outputs": []
    },
    {
      "cell_type": "markdown",
      "source": [
        "Merge all these features."
      ],
      "metadata": {
        "id": "_SefJ2hXaV7X"
      }
    },
    {
      "cell_type": "code",
      "source": [
        "customer_features = category_distribution.join(customer_numerical_features.set_index('CustomerID'))\n",
        "customer_features = customer_features.join(last_purchase.set_index('CustomerID'))"
      ],
      "metadata": {
        "id": "xKpMRRvxXKQo"
      },
      "execution_count": null,
      "outputs": []
    },
    {
      "cell_type": "markdown",
      "source": [
        "Normalize numerical features\n"
      ],
      "metadata": {
        "id": "eCd3Us4hacg3"
      }
    },
    {
      "cell_type": "code",
      "source": [
        "scaler = StandardScaler()\n",
        "numerical_cols = ['TotalValue', 'Quantity', 'AvgPrice', 'PriceStd', 'Recency']\n",
        "customer_features[numerical_cols] = scaler.fit_transform(customer_features[numerical_cols])"
      ],
      "metadata": {
        "id": "tRACrENhXKUB"
      },
      "execution_count": null,
      "outputs": []
    },
    {
      "cell_type": "code",
      "source": [
        "product_similarity_df = pd.DataFrame(product_similarity, index=category_distribution.index, columns=category_distribution.index)\n",
        "customer_features = customer_features.join(product_similarity_df)"
      ],
      "metadata": {
        "id": "-uqGpeP-aeZj"
      },
      "execution_count": null,
      "outputs": []
    },
    {
      "cell_type": "markdown",
      "source": [
        "Assign Weights\n",
        "Assign appropriate weights to each feature group we have added in above steps. First, we will give equal importance to a customer's spending power and their interested categories (0.5 each). But even among similar interested categories, customers who have bought the same product should be given a bit more importance. Hence, we will give some weight to same product bought also"
      ],
      "metadata": {
        "id": "AYc0h_f5aigV"
      }
    },
    {
      "cell_type": "code",
      "source": [
        "\n",
        "category_weight = 0.4 / len(category_distribution.columns)\n",
        "numerical_weight = 0.5 / len(numerical_cols)\n",
        "product_weight = 0.1 / product_similarity_df.shape[1]\n",
        "\n",
        "weights = [category_weight] * len(category_distribution.columns) + \\\n",
        "          [numerical_weight] * len(numerical_cols) + \\\n",
        "          [product_weight] * product_similarity_df.shape[1]"
      ],
      "metadata": {
        "id": "PEERbHzLaecJ"
      },
      "execution_count": null,
      "outputs": []
    },
    {
      "cell_type": "code",
      "source": [
        "features = customer_features.values\n",
        "weighted_features = features * weights"
      ],
      "metadata": {
        "id": "N9p3Bondaefn"
      },
      "execution_count": null,
      "outputs": []
    },
    {
      "cell_type": "markdown",
      "source": [
        "Calculate the cosine similarity"
      ],
      "metadata": {
        "id": "eySG90_SbYU2"
      }
    },
    {
      "cell_type": "code",
      "source": [
        "similarity_matrix = cosine_similarity(weighted_features)"
      ],
      "metadata": {
        "id": "Ay4nRiO6bbqs"
      },
      "execution_count": null,
      "outputs": []
    },
    {
      "cell_type": "markdown",
      "source": [
        "Find top 3 look alikes for first 20 customer and save them in csv file"
      ],
      "metadata": {
        "id": "D7fxRSaNbio5"
      }
    },
    {
      "cell_type": "code",
      "source": [
        "\n",
        "customer_ids = customer_features.index\n",
        "lookalike_map = {}\n",
        "for i, customer_id in enumerate(customer_ids):\n",
        "    scores = list(enumerate(similarity_matrix[i]))\n",
        "    scores = sorted([s for s in scores if s[0] != i], key=lambda x: x[1], reverse=True)\n",
        "    top_3 = [(customer_ids[s[0]], round(s[1], 4)) for s in scores[:3]]\n",
        "    lookalike_map[customer_id] = top_3\n",
        "\n",
        "lookalike_data = {\n",
        "    \"CustomerID\": [],\n",
        "    \"Lookalikes\": [],\n",
        "}\n",
        "\n",
        "for customer_id in customer_ids[:20]:\n",
        "    lookalikes = lookalike_map[customer_id]\n",
        "    lookalike_data[\"CustomerID\"].append(customer_id)\n",
        "    lookalike_data[\"Lookalikes\"].append(lookalikes)\n",
        "\n",
        "lookalike_df = pd.DataFrame(lookalike_data)\n",
        "lookalike_df.to_csv(\"Lookalike.csv\", index=False)\n",
        "\n",
        "print(\"Lookalike model results saved to Lookalike.csv\")\n"
      ],
      "metadata": {
        "colab": {
          "base_uri": "https://localhost:8080/"
        },
        "id": "RuXa-e4C-L63",
        "outputId": "24388ba2-2a47-4818-f6ab-d1ab28f6a228"
      },
      "execution_count": null,
      "outputs": [
        {
          "output_type": "stream",
          "name": "stdout",
          "text": [
            "Lookalike model results saved to Lookalike.csv\n"
          ]
        }
      ]
    }
  ]
}